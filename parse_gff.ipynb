{
 "cells": [
  {
   "cell_type": "code",
   "execution_count": 2,
   "metadata": {},
   "outputs": [
    {
     "name": "stdout",
     "output_type": "stream",
     "text": [
      "                        0          1    2        3        4  5  6  7  \\\n",
      "3   tryp_X-188b09.p2kB601  VEuPathDB  CDS    12874    13425  .  +  0   \n",
      "7           Tb927_08_v5.1  VEuPathDB  CDS  1389086  1390462  .  -  0   \n",
      "16      tryp_X-324h11.p1k  VEuPathDB  CDS    58394    58423  .  +  0   \n",
      "17      tryp_X-324h11.p1k  VEuPathDB  CDS    58426    58866  .  +  0   \n",
      "18      tryp_X-324h11.p1k  VEuPathDB  CDS    58868    59953  .  +  0   \n",
      "\n",
      "                                                    8  \n",
      "3   ID=Tb10.v4.0078:mRNA-p1-CDS1;Parent=Tb10.v4.00...  \n",
      "7   ID=Tb927.8.4730:mRNA-p1-CDS1;Parent=Tb927.8.47...  \n",
      "16  ID=Tb10.v4.0183:pseudogenic_transcript-p1-CDS1...  \n",
      "17  ID=Tb10.v4.0183:pseudogenic_transcript-p1-CDS2...  \n",
      "18  ID=Tb10.v4.0183:pseudogenic_transcript-p1-CDS3...  \n",
      "11984\n",
      "(9829, 11)\n",
      "(9197, 11)\n"
     ]
    },
    {
     "data": {
      "text/html": [
       "<div>\n",
       "<style scoped>\n",
       "    .dataframe tbody tr th:only-of-type {\n",
       "        vertical-align: middle;\n",
       "    }\n",
       "\n",
       "    .dataframe tbody tr th {\n",
       "        vertical-align: top;\n",
       "    }\n",
       "\n",
       "    .dataframe thead th {\n",
       "        text-align: right;\n",
       "    }\n",
       "</style>\n",
       "<table border=\"1\" class=\"dataframe\">\n",
       "  <thead>\n",
       "    <tr style=\"text-align: right;\">\n",
       "      <th></th>\n",
       "      <th>Chro</th>\n",
       "      <th>1</th>\n",
       "      <th>2</th>\n",
       "      <th>3</th>\n",
       "      <th>4</th>\n",
       "      <th>5</th>\n",
       "      <th>6</th>\n",
       "      <th>7</th>\n",
       "      <th>8</th>\n",
       "      <th>Gene_Id</th>\n",
       "      <th>Desc</th>\n",
       "    </tr>\n",
       "  </thead>\n",
       "  <tbody>\n",
       "  </tbody>\n",
       "</table>\n",
       "</div>"
      ],
      "text/plain": [
       "Empty DataFrame\n",
       "Columns: [Chro, 1, 2, 3, 4, 5, 6, 7, 8, Gene_Id, Desc]\n",
       "Index: []"
      ]
     },
     "execution_count": 2,
     "metadata": {},
     "output_type": "execute_result"
    }
   ],
   "source": [
    "import pandas as pd\n",
    "import urllib.parse\n",
    "main_chro =  [\n",
    " 'Tb927_01_v5.1',\n",
    " 'Tb927_02_v5.1',\n",
    " 'Tb927_03_v5.1',\n",
    " 'Tb927_04_v5.1',\n",
    " 'Tb927_05_v5.1',\n",
    " 'Tb927_06_v5.1',\n",
    " 'Tb927_07_v5.1',\n",
    " 'Tb927_08_v5.1',\n",
    " 'Tb927_09_v5.1',\n",
    " 'Tb927_10_v5.1',\n",
    " 'Tb927_11_v5.1']\n",
    "\n",
    "cds = pd.read_csv('TriTrypDB-50_TbruceiTREU927.gff',\n",
    "            sep='\\t',comment='#',header=None)\n",
    "cds = cds[cds.iloc[:,2]=='CDS']\n",
    "print(cds.head())\n",
    "gene_ids = [n.split(';')[0].replace('ID=','').split(':')[0] for n in cds.iloc[:,-1]]\n",
    "gene_ids = ['.'.join(n.split('.')[:3]) for n in gene_ids]\n",
    "print(len(gene_ids))\n",
    "\n",
    "\n",
    "\n",
    "\n",
    "\n",
    "\n",
    "\n",
    "gff = pd.read_csv('TriTrypDB-50_TbruceiTREU927.gff',\n",
    "            sep='\\t',comment='#',header=None)\n",
    "gff = gff[gff.iloc[:,2]=='gene']\n",
    "gff = gff[gff.iloc[:,0].isin(main_chro)]\n",
    "temp =gff.iloc[:,8]\n",
    "genes = [n.split(';')[0].replace('ID=','') for n in temp]\n",
    "desc = [urllib.parse.unquote(n.split(';')[1].replace('description=','')) for n in temp]\n",
    "gff['Gene_Id']=genes\n",
    "gff['Desc']=desc\n",
    "print(gff.shape)\n",
    "gff = gff[gff['Gene_Id'].isin(gene_ids)]\n",
    "print(gff.shape)\n",
    "gff.rename({0:'Chro'},axis=1,inplace=True)\n",
    "gff[['Chro', 'Gene_Id', 'Desc']].to_csv('data/gene_table.csv',index=False)\n",
    "\n",
    "gff.head(10)\n",
    "\n",
    "\n",
    "gff[gff['Gene_Id']=='tmp.1.80']"
   ]
  },
  {
   "cell_type": "code",
   "execution_count": 59,
   "metadata": {},
   "outputs": [
    {
     "data": {
      "text/html": [
       "<div>\n",
       "<style scoped>\n",
       "    .dataframe tbody tr th:only-of-type {\n",
       "        vertical-align: middle;\n",
       "    }\n",
       "\n",
       "    .dataframe tbody tr th {\n",
       "        vertical-align: top;\n",
       "    }\n",
       "\n",
       "    .dataframe thead th {\n",
       "        text-align: right;\n",
       "    }\n",
       "</style>\n",
       "<table border=\"1\" class=\"dataframe\">\n",
       "  <thead>\n",
       "    <tr style=\"text-align: right;\">\n",
       "      <th></th>\n",
       "      <th>Chro</th>\n",
       "      <th>1</th>\n",
       "      <th>2</th>\n",
       "      <th>3</th>\n",
       "      <th>4</th>\n",
       "      <th>5</th>\n",
       "      <th>6</th>\n",
       "      <th>7</th>\n",
       "      <th>8</th>\n",
       "      <th>Gene_Id</th>\n",
       "      <th>Desc</th>\n",
       "    </tr>\n",
       "  </thead>\n",
       "  <tbody>\n",
       "  </tbody>\n",
       "</table>\n",
       "</div>"
      ],
      "text/plain": [
       "Empty DataFrame\n",
       "Columns: [Chro, 1, 2, 3, 4, 5, 6, 7, 8, Gene_Id, Desc]\n",
       "Index: []"
      ]
     },
     "execution_count": 59,
     "metadata": {},
     "output_type": "execute_result"
    }
   ],
   "source": [
    "gff[gff['Gene_Id']=='tmp.1.80']"
   ]
  },
  {
   "cell_type": "code",
   "execution_count": 65,
   "metadata": {},
   "outputs": [
    {
     "data": {
      "text/plain": [
       "False"
      ]
     },
     "execution_count": 65,
     "metadata": {},
     "output_type": "execute_result"
    }
   ],
   "source": [
    "'tmp.1.80' in gene_ids"
   ]
  },
  {
   "cell_type": "code",
   "execution_count": null,
   "metadata": {},
   "outputs": [],
   "source": []
  }
 ],
 "metadata": {
  "kernelspec": {
   "display_name": "Python 3",
   "language": "python",
   "name": "python3"
  },
  "language_info": {
   "codemirror_mode": {
    "name": "ipython",
    "version": 3
   },
   "file_extension": ".py",
   "mimetype": "text/x-python",
   "name": "python",
   "nbconvert_exporter": "python",
   "pygments_lexer": "ipython3",
   "version": "3.7.1"
  },
  "toc": {
   "base_numbering": 1,
   "nav_menu": {},
   "number_sections": true,
   "sideBar": true,
   "skip_h1_title": false,
   "title_cell": "Table of Contents",
   "title_sidebar": "Contents",
   "toc_cell": false,
   "toc_position": {},
   "toc_section_display": true,
   "toc_window_display": false
  }
 },
 "nbformat": 4,
 "nbformat_minor": 4
}
